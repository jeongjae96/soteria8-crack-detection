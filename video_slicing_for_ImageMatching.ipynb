{
 "cells": [
  {
   "cell_type": "markdown",
   "metadata": {},
   "source": [
    "# video sicing for ImageMatching"
   ]
  },
  {
   "cell_type": "markdown",
   "metadata": {},
   "source": [
    "- query frame :\n",
    "    - 3초 단위로 slicing한 frame사용 <br>\n",
    "    - 학습 이미지(metadataset)과 동일한 (512,512) 사이즈 혹은 원본 그대로 사용   \n",
    "- (metadataset) searchspace\n",
    "    - 전체 동영상을 프레임단위로 slicing\n",
    "    - 15프레임 (60프레임 동영상 기준, 초당 4장) + 학습을 위한 (512,512)resizing\n",
    "    "
   ]
  },
  {
   "cell_type": "code",
   "execution_count": 3,
   "metadata": {},
   "outputs": [],
   "source": [
    "import os\n",
    "import cv2"
   ]
  },
  {
   "cell_type": "markdown",
   "metadata": {},
   "source": [
    "사용할 동영상의 기본 정보 확인 "
   ]
  },
  {
   "cell_type": "code",
   "execution_count": 4,
   "metadata": {},
   "outputs": [],
   "source": [
    "video_path = '/USER/final_project/data/video/section2/[02]Left_01.MP4' #your data path"
   ]
  },
  {
   "cell_type": "code",
   "execution_count": 5,
   "metadata": {},
   "outputs": [
    {
     "data": {
      "text/plain": [
       "59.94005994005994"
      ]
     },
     "execution_count": 5,
     "metadata": {},
     "output_type": "execute_result"
    }
   ],
   "source": [
    "cap = cv2.VideoCapture(video_path)\n",
    "cap.get(cv2.CAP_PROP_FPS)"
   ]
  },
  {
   "cell_type": "markdown",
   "metadata": {},
   "source": [
    "## Make query frame from video"
   ]
  },
  {
   "cell_type": "markdown",
   "metadata": {},
   "source": [
    "### 1. (0~60) 프레임 단위로 슬라이싱"
   ]
  },
  {
   "cell_type": "code",
   "execution_count": 119,
   "metadata": {},
   "outputs": [],
   "source": [
    "def extract_and_save_frames_ff(video_path, target_fps, output_folder):\n",
    "    # 비디오 파일을 읽음\n",
    "    cap = cv2.VideoCapture(video_path)\n",
    "    \n",
    "    if not cap.isOpened():\n",
    "        print(\"Error: Cannot open video.\")\n",
    "        return\n",
    "    \n",
    "    # 원본 비디오의 FPS를 가져옴\n",
    "    original_fps = cap.get(cv2.CAP_PROP_FPS)\n",
    "    frame_interval = round(original_fps / target_fps)\n",
    "\n",
    "    frame_count = 0\n",
    "\n",
    "    while cap.isOpened():\n",
    "        ret, frame = cap.read()\n",
    "        \n",
    "        # 더 이상 프레임이 없으면 반복문 종료\n",
    "        if not ret:\n",
    "            break\n",
    "        \n",
    "        # 지정한 간격으로 프레임을 추출 및 저장\n",
    "        if frame_count % frame_interval == 0:\n",
    "            # 파일명 생성 (예: frame_0.jpg, frame_1.jpg, ...)\n",
    "            filename = f\"frame_{frame_count // frame_interval}.jpg\"\n",
    "            filepath = os.path.join(output_folder, filename)\n",
    "\n",
    "            # 프레임 저장\n",
    "            frame = cv2.resize(frame, (512,512))  # 512,512로 resizing for feature extractor model(ConvAutoEncoder)\n",
    "            cv2.imwrite(filepath, frame)\n",
    "        \n",
    "        frame_count += 1\n",
    "\n",
    "    # 자원 해제\n",
    "    cap.release()\n",
    "\n"
   ]
  },
  {
   "cell_type": "code",
   "execution_count": null,
   "metadata": {},
   "outputs": [],
   "source": [
    "# 함수 사용 예시\n",
    "# 'example_video.mp4'는 비디오 파일의 경로\n",
    "# 5는 추출하고자 하는 대상 FPS\n",
    "# 'output_frames'는 저장할 폴더 경로\n",
    "extract_and_save_frames_ff('example_video.mp4', 5, 'output_frames')"
   ]
  },
  {
   "cell_type": "markdown",
   "metadata": {},
   "source": [
    "### 2. 초단위로 Slicing"
   ]
  },
  {
   "cell_type": "code",
   "execution_count": 120,
   "metadata": {},
   "outputs": [],
   "source": [
    "import cv2\n",
    "import os\n",
    "\n",
    "def extract_and_save_frames_fs(video_path, seconds_interval, output_folder):\n",
    "    # 비디오 파일을 읽음\n",
    "    cap = cv2.VideoCapture(video_path)\n",
    "    \n",
    "    if not cap.isOpened():\n",
    "        print(\"Error: Cannot open video.\")\n",
    "        return\n",
    "    \n",
    "    # 원본 비디오의 FPS를 가져옴\n",
    "    original_fps = cap.get(cv2.CAP_PROP_FPS)\n",
    "    frame_interval = int(original_fps * seconds_interval)\n",
    "\n",
    "    frame_count = 0\n",
    "\n",
    "    while cap.isOpened():\n",
    "        ret, frame = cap.read()\n",
    "        \n",
    "        # 더 이상 프레임이 없으면 반복문 종료\n",
    "        if not ret:\n",
    "            break\n",
    "        \n",
    "        # 지정한 간격으로 프레임을 추출 및 저장\n",
    "        if frame_count % frame_interval == 0:\n",
    "            # 파일명 생성 (예: frame_0.jpg, frame_1.jpg, ...)\n",
    "            filename = f\"frame_{frame_count // frame_interval}.jpg\"\n",
    "            filepath = os.path.join(output_folder, filename)\n",
    "            \n",
    "            ### Resize option\n",
    "            frame = cv2.resize(frame, (512,512))  # 512,512로 resizing for feature extractor model(ConvAutoEncoder)\n",
    "\n",
    "            # 프레임 저장\n",
    "            cv2.imwrite(filepath, frame)\n",
    "        \n",
    "        frame_count += 1\n",
    "\n",
    "    # 자원 해제\n",
    "    cap.release()\n",
    "\n"
   ]
  },
  {
   "cell_type": "code",
   "execution_count": 121,
   "metadata": {},
   "outputs": [],
   "source": [
    "video_path = '/USER/final_project/data/video/section2/[02]Right_01.MP4'"
   ]
  },
  {
   "cell_type": "code",
   "execution_count": 123,
   "metadata": {},
   "outputs": [],
   "source": [
    "# 함수 사용 예시\n",
    "# 'example_video.mp4'는 비디오 파일의 경로\n",
    "# 3는 추출하고자 하는 간격(초)\n",
    "# '/USER/final_project/data/slice1'는 저장할 폴더 경로\n",
    "extract_and_save_frames_fs(video_path, 3, '/USER/final_project/data/video_slicing/query/section2/right_01_slice_resize')"
   ]
  },
  {
   "cell_type": "markdown",
   "metadata": {},
   "source": [
    "### 3. Make Train&Search data\n",
    "학습과 유사도 검색을 위한 전체 동영상을 프레임단위로 슬라이싱한 데이터셋을 구성합니다."
   ]
  },
  {
   "cell_type": "code",
   "execution_count": 6,
   "metadata": {},
   "outputs": [],
   "source": [
    "##  NOT USE ##\n",
    "\n",
    "def make_meta_searchspace(video_dir, target_fps, output_dir):\n",
    "    total_video = []\n",
    "    video_path = ''\n",
    "    for i in sorted(os.listdir(video_dir)):\n",
    "        video_path = video_dir + '/' + i\n",
    "        total_video.append(os.listdir(video_path))\n",
    "    print(total_video)"
   ]
  },
  {
   "cell_type": "code",
   "execution_count": 7,
   "metadata": {},
   "outputs": [],
   "source": [
    "video_dir = '/USER/final_project/data/video'"
   ]
  },
  {
   "cell_type": "code",
   "execution_count": 8,
   "metadata": {},
   "outputs": [],
   "source": [
    "def list_all_videos(video_dir):\n",
    "    all_videos = []\n",
    "    for section in sorted(os.listdir(video_dir)):\n",
    "        section_path = os.path.join(video_dir, section)\n",
    "        if os.path.isdir(section_path):\n",
    "            for file in os.listdir(section_path):\n",
    "                file_path = os.path.join(section_path, file)\n",
    "                if os.path.isfile(file_path):\n",
    "                    all_videos.append(file_path)\n",
    "    return all_videos\n"
   ]
  },
  {
   "cell_type": "code",
   "execution_count": 9,
   "metadata": {},
   "outputs": [],
   "source": [
    "video_dir = '/USER/final_project/data/video'  # video 폴더의 경로\n",
    "videos = list_all_videos(video_dir)"
   ]
  },
  {
   "cell_type": "code",
   "execution_count": 10,
   "metadata": {},
   "outputs": [
    {
     "data": {
      "text/plain": [
       "str"
      ]
     },
     "execution_count": 10,
     "metadata": {},
     "output_type": "execute_result"
    }
   ],
   "source": [
    "type(os.path.basename('/USER/final_project/data/video/section1/[01]left_01.MP4'))"
   ]
  },
  {
   "cell_type": "code",
   "execution_count": 11,
   "metadata": {},
   "outputs": [
    {
     "data": {
      "text/plain": [
       "'[02]Left_01.MP4'"
      ]
     },
     "execution_count": 11,
     "metadata": {},
     "output_type": "execute_result"
    }
   ],
   "source": [
    "os.path.basename(video_path)"
   ]
  },
  {
   "cell_type": "code",
   "execution_count": 12,
   "metadata": {},
   "outputs": [],
   "source": [
    "def extract_and_save_frames(video_path, output_folder, target_fps):\n",
    "    # 비디오 파일을 읽음\n",
    "    cap = cv2.VideoCapture(video_path)\n",
    "    if not cap.isOpened():\n",
    "        print(\"Error: Cannot open video.\")\n",
    "        return\n",
    "\n",
    "    # 원본 비디오의 FPS를 가져옴\n",
    "    original_fps = cap.get(cv2.CAP_PROP_FPS)\n",
    "    \n",
    "    if target_fps > original_fps:\n",
    "        frame_interval = int(target_fps)\n",
    "    else :\n",
    "        frame_interval = round(original_fps / target_fps)\n",
    "    frame_count = 0\n",
    "\n",
    "    while cap.isOpened():\n",
    "        ret, frame = cap.read()\n",
    "        if not ret:\n",
    "            break\n",
    "\n",
    "        if frame_count % frame_interval == 0:\n",
    "            filename = f\"{os.path.basename(video_path)}frame_{frame_count // frame_interval}.jpg\"\n",
    "            filepath = os.path.join(output_folder, filename)\n",
    "            frame = cv2.resize(frame, (512, 512))  # 512x512로 리사이징\n",
    "            cv2.imwrite(filepath, frame)\n",
    "\n",
    "        frame_count += 1\n",
    "\n",
    "    cap.release()\n",
    "    \n",
    "    \n",
    "# def process_all_videos_for_dir(video_paths, target_fps, output_root):\n",
    "    # for video_path in video_paths:\n",
    "    ##    각 비디오 파일의 이름으로 폴더 생성\n",
    "        # video_name = os.path.basename(video_path)\n",
    "        # output_folder = os.path.join(output_root, os.path.splitext(video_name)[0])\n",
    "        # os.makedirs(output_folder, exist_ok=True)\n",
    "\n",
    "        # extract_and_save_frames(video_path, target_fps, output_folder)\n",
    "\n",
    "\n",
    "def process_all_videos(video_paths, output_folder, target_fps):\n",
    "    for video_path in video_paths:\n",
    "        extract_and_save_frames(video_path, output_folder, target_fps)"
   ]
  },
  {
   "cell_type": "code",
   "execution_count": 13,
   "metadata": {},
   "outputs": [],
   "source": [
    " ## Autoencoder로 학습시키고, query이미지가 유사한 프레임을 찾을 이미지 경로를 지정합니다.\n",
    "trainspace = '/USER/final_project/data/video_slicing/trainspace'\n",
    "searchspace = '/USER/final_project/data/video_slicing/searchspace'"
   ]
  },
  {
   "cell_type": "code",
   "execution_count": 14,
   "metadata": {},
   "outputs": [
    {
     "name": "stdout",
     "output_type": "stream",
     "text": [
      "18\n"
     ]
    },
    {
     "data": {
      "text/plain": [
       "['/USER/final_project/data/video/section1/[01]left_01.MP4',\n",
       " '/USER/final_project/data/video/section1/[01]left_02.MP4',\n",
       " '/USER/final_project/data/video/section1/[01]Right_01.MP4',\n",
       " '/USER/final_project/data/video/section1/[01]Right_02.MP4',\n",
       " '/USER/final_project/data/video/section1/[01]Up_01.MP4',\n",
       " '/USER/final_project/data/video/section1/[01]Up_02.MP4',\n",
       " '/USER/final_project/data/video/section2/[02]Left_01.MP4',\n",
       " '/USER/final_project/data/video/section2/[02]Left_02.MP4',\n",
       " '/USER/final_project/data/video/section2/[02]Right_01.MP4',\n",
       " '/USER/final_project/data/video/section2/[02]Right_02.MP4',\n",
       " '/USER/final_project/data/video/section2/[02]Up_01.MP4',\n",
       " '/USER/final_project/data/video/section2/[02]Up_02.MP4',\n",
       " '/USER/final_project/data/video/section3/[03]Left_01.MP4',\n",
       " '/USER/final_project/data/video/section3/[03]Left_02.MP4',\n",
       " '/USER/final_project/data/video/section3/[03]Right_01.MP4',\n",
       " '/USER/final_project/data/video/section3/[03]Right_02.MP4',\n",
       " '/USER/final_project/data/video/section3/[03]Up_01.MP4',\n",
       " '/USER/final_project/data/video/section3/[03]Up_02.MP4']"
      ]
     },
     "execution_count": 14,
     "metadata": {},
     "output_type": "execute_result"
    }
   ],
   "source": [
    "print(len(videos))\n",
    "videos"
   ]
  },
  {
   "cell_type": "code",
   "execution_count": 15,
   "metadata": {},
   "outputs": [],
   "source": [
    "#Query대상 비디오(2구역 왼쪽벽면 촬영 영상)리스트에서 제거\n",
    "videos.remove('/USER/final_project/data/video/section2/[02]Left_01.MP4')"
   ]
  },
  {
   "cell_type": "code",
   "execution_count": 16,
   "metadata": {},
   "outputs": [
    {
     "data": {
      "text/plain": [
       "17"
      ]
     },
     "execution_count": 16,
     "metadata": {},
     "output_type": "execute_result"
    }
   ],
   "source": [
    "len(videos)"
   ]
  },
  {
   "cell_type": "markdown",
   "metadata": {},
   "source": [
    "SearchSpace"
   ]
  },
  {
   "cell_type": "code",
   "execution_count": 18,
   "metadata": {},
   "outputs": [],
   "source": [
    "#videos = ['/path/to/video1.mp4', '/path/to/video2.mp4']  # 비디오 파일 목록\n",
    "process_all_videos(videos, searchspace, 180)  # 5는 목표 FPS, 'output_frames'는 저장할 루트 폴더"
   ]
  },
  {
   "cell_type": "markdown",
   "metadata": {},
   "source": [
    "TrainSpace"
   ]
  },
  {
   "cell_type": "code",
   "execution_count": 136,
   "metadata": {},
   "outputs": [],
   "source": [
    "process_all_videos(videos, trainspace, 15)"
   ]
  },
  {
   "cell_type": "code",
   "execution_count": 57,
   "metadata": {},
   "outputs": [
    {
     "data": {
      "text/plain": [
       "476"
      ]
     },
     "execution_count": 57,
     "metadata": {},
     "output_type": "execute_result"
    }
   ],
   "source": [
    "len(os.listdir(searchspace))"
   ]
  },
  {
   "cell_type": "code",
   "execution_count": null,
   "metadata": {},
   "outputs": [],
   "source": []
  }
 ],
 "metadata": {
  "kernelspec": {
   "display_name": "Python 3 (ipykernel)",
   "language": "python",
   "name": "python3"
  },
  "language_info": {
   "codemirror_mode": {
    "name": "ipython",
    "version": 3
   },
   "file_extension": ".py",
   "mimetype": "text/x-python",
   "name": "python",
   "nbconvert_exporter": "python",
   "pygments_lexer": "ipython3",
   "version": "3.9.18"
  }
 },
 "nbformat": 4,
 "nbformat_minor": 5
}
