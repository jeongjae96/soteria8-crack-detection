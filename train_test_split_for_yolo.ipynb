{
 "cells": [
  {
   "cell_type": "code",
   "execution_count": 15,
   "metadata": {},
   "outputs": [],
   "source": [
    "#!unzip er_yolo8.zip -d ./data"
   ]
  },
  {
   "cell_type": "markdown",
   "metadata": {},
   "source": [
    "train:val:test 7:2:1"
   ]
  },
  {
   "cell_type": "markdown",
   "metadata": {},
   "source": [
    "## Random Shuffle 사용할때의 train_test_validataion_split for yolo"
   ]
  },
  {
   "cell_type": "code",
   "execution_count": 21,
   "metadata": {},
   "outputs": [],
   "source": [
    "import os\n",
    "import shutil\n",
    "import numpy as np\n",
    "\n",
    "\n",
    "def split_data_shuffle(images_source, labels_source, destination_folder, split_ratio):\n",
    "    # 이미지 파일 목록 가져오기\n",
    "    images = os.listdir(images_source)\n",
    "    \n",
    "    ######## Shuffle OPTION ###########\n",
    "    np.random.shuffle(images)\n",
    "\n",
    "    # 분할 지점 계산\n",
    "    split_1 = int(split_ratio[0] * len(images))\n",
    "    split_2 = split_1 + int(split_ratio[1] * len(images))\n",
    "\n",
    "    # 파일을 train, val, test로 분할\n",
    "    train_images, val_images, test_images = np.split(images, [split_1, split_2])\n",
    "\n",
    "    # 각 데이터셋에 대한 이미지와 라벨 복사\n",
    "    for img_list, folder_name in zip([train_images, val_images, test_images], ['train', 'val', 'test']):\n",
    "        img_folder = os.path.join(destination_folder, folder_name, 'images')\n",
    "        label_folder = os.path.join(destination_folder, folder_name, 'labels')\n",
    "\n",
    "        # 폴더 생성\n",
    "        os.makedirs(img_folder, exist_ok=True)\n",
    "        os.makedirs(label_folder, exist_ok=True)\n",
    "\n",
    "        for img_file in img_list:\n",
    "            # 파일 이름에서 확장자 제거\n",
    "            base_name = os.path.splitext(img_file)[0]\n",
    "\n",
    "            # 이미지와 라벨 파일 복사\n",
    "            shutil.copy(os.path.join(images_source, img_file), img_folder)\n",
    "            shutil.copy(os.path.join(labels_source, base_name + '.txt'), label_folder)"
   ]
  },
  {
   "cell_type": "markdown",
   "metadata": {},
   "source": [
    "## 성능 평가를 위한 benchmark custom을 위한 index기준 split"
   ]
  },
  {
   "cell_type": "code",
   "execution_count": 5,
   "metadata": {},
   "outputs": [
    {
     "data": {
      "text/plain": [
       "363"
      ]
     },
     "execution_count": 5,
     "metadata": {},
     "output_type": "execute_result"
    }
   ],
   "source": [
    "# check  ratio \n",
    "int(0.7*519)"
   ]
  },
  {
   "cell_type": "code",
   "execution_count": 46,
   "metadata": {},
   "outputs": [],
   "source": [
    "import os\n",
    "import shutil\n",
    "import numpy as np\n",
    "import natsort\n",
    "\n",
    "def split_data_ordered(images_source, labels_source, destination_folder, split_ratio):\n",
    "    # 이미지 파일 목록 가져오기\n",
    "    images = os.listdir(images_source)\n",
    "    images = natsort.natsorted(images)\n",
    "\n",
    "    # 분할 지점 계산\n",
    "    split_1 = int(split_ratio[0] * len(images))\n",
    "    split_2 = split_1 + int(split_ratio[1] * len(images))\n",
    "\n",
    "    # 파일을 train, val, test로 분할\n",
    "    train_images, val_images, test_images = images[:split_1], images[split_1:split_2], images[split_2:]\n",
    "\n",
    "    # 각 데이터셋에 대한 이미지와 라벨 복사\n",
    "    for img_list, folder_name in zip([train_images, val_images, test_images], ['train', 'val', 'test']):\n",
    "        img_folder = os.path.join(destination_folder, folder_name, 'images')\n",
    "        label_folder = os.path.join(destination_folder, folder_name, 'labels')\n",
    "\n",
    "        # 폴더 생성\n",
    "        os.makedirs(img_folder, exist_ok=True)\n",
    "        os.makedirs(label_folder, exist_ok=True)\n",
    "        \n",
    "        \n",
    "        try :\n",
    "            for img_file in img_list:\n",
    "                # 파일 이름에서 확장자 제거  split extention -> 확장자명 가져오기[1] 파일명[0]\n",
    "                base_name = os.path.splitext(img_file)[0]\n",
    "\n",
    "                # 이미지와 라벨 파일 복사\n",
    "                shutil.copy(os.path.join(images_source, img_file), img_folder)\n",
    "                shutil.copy(os.path.join(labels_source, base_name + '.txt'), label_folder)\n",
    "        except :\n",
    "            pass"
   ]
  },
  {
   "cell_type": "code",
   "execution_count": 47,
   "metadata": {},
   "outputs": [],
   "source": [
    "# 파일 경로 설정\n",
    "images_source = '/USER/final_project/data/er_yolo8/train/images'\n",
    "labels_source = '/USER/final_project/data/er_yolo8/train/labels'\n",
    "destination_folder = '/USER/final_project/data/er_split_yolo8'\n",
    "\n",
    "# 분할 비율 설정\n",
    "split_ratios = (0.7, 0.2, 0.1)\n",
    "\n",
    "# 데이터 분할 실행\n",
    "#split_data_shuffle(images_source, labels_source, destination_folder, split_ratios)\n",
    "split_data_ordered(images_source, labels_source, destination_folder, [0.7, 0.2, 0.1])"
   ]
  },
  {
   "cell_type": "code",
   "execution_count": null,
   "metadata": {},
   "outputs": [],
   "source": []
  }
 ],
 "metadata": {
  "kernelspec": {
   "display_name": "ultra",
   "language": "python",
   "name": "python3"
  },
  "language_info": {
   "codemirror_mode": {
    "name": "ipython",
    "version": 3
   },
   "file_extension": ".py",
   "mimetype": "text/x-python",
   "name": "python",
   "nbconvert_exporter": "python",
   "pygments_lexer": "ipython3",
   "version": "3.11.5"
  }
 },
 "nbformat": 4,
 "nbformat_minor": 2
}
